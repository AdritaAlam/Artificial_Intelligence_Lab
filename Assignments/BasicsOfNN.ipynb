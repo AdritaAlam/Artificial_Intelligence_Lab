{
  "nbformat": 4,
  "nbformat_minor": 0,
  "metadata": {
    "colab": {
      "provenance": []
    },
    "kernelspec": {
      "name": "python3",
      "display_name": "Python 3"
    },
    "language_info": {
      "name": "python"
    }
  },
  "cells": [
    {
      "cell_type": "markdown",
      "source": [
        "# Import necessary modules"
      ],
      "metadata": {
        "id": "pob_d6aqn_Rl"
      }
    },
    {
      "cell_type": "code",
      "source": [
        "from tensorflow.keras.layers import Input,Dense,Activation\n",
        "from tensorflow.keras.models import Model\n",
        "from tensorflow.keras.applications import vgg16,mobilenet,resnet"
      ],
      "metadata": {
        "id": "4MTQl5PZnqPB"
      },
      "execution_count": 1,
      "outputs": []
    },
    {
      "cell_type": "markdown",
      "source": [
        "# Build the simpliest fully connected neural network(FCNN) without activation function"
      ],
      "metadata": {
        "id": "suyvRvthn-hA"
      }
    },
    {
      "cell_type": "code",
      "execution_count": 2,
      "metadata": {
        "colab": {
          "base_uri": "https://localhost:8080/"
        },
        "id": "zlRBz4Glnis1",
        "outputId": "aeff2b34-943f-4cc9-e243-8e15ffb5d304"
      },
      "outputs": [
        {
          "output_type": "stream",
          "name": "stdout",
          "text": [
            "Model: \"model\"\n",
            "_________________________________________________________________\n",
            " Layer (type)                Output Shape              Param #   \n",
            "=================================================================\n",
            " input_1 (InputLayer)        [(None, 1)]               0         \n",
            "                                                                 \n",
            " OutputLayer (Dense)         (None, 1)                 2         \n",
            "                                                                 \n",
            "=================================================================\n",
            "Total params: 2 (8.00 Byte)\n",
            "Trainable params: 2 (8.00 Byte)\n",
            "Non-trainable params: 0 (0.00 Byte)\n",
            "_________________________________________________________________\n"
          ]
        }
      ],
      "source": [
        "inputs = Input((1,))\n",
        "outputs = Dense(1,name = 'OutputLayer')(inputs)\n",
        "model = Model(inputs,outputs)\n",
        "model.summary()"
      ]
    },
    {
      "cell_type": "markdown",
      "source": [
        "# Build the simpliest FCNN with activation function"
      ],
      "metadata": {
        "id": "Es7zS8t1oo5A"
      }
    },
    {
      "cell_type": "code",
      "source": [
        "inputs = Input((1,))\n",
        "outputs = Dense(1,name = 'OutputLayer',activation = 'sigmoid')(inputs)\n",
        "model = Model(inputs,outputs,name = 'FCNN_with_Activation')\n",
        "model.summary()"
      ],
      "metadata": {
        "colab": {
          "base_uri": "https://localhost:8080/"
        },
        "id": "qiiFMii6onVc",
        "outputId": "647f7707-4f81-4d9a-9d29-99a587b6fbbe"
      },
      "execution_count": 3,
      "outputs": [
        {
          "output_type": "stream",
          "name": "stdout",
          "text": [
            "Model: \"FCNN_with_Activation\"\n",
            "_________________________________________________________________\n",
            " Layer (type)                Output Shape              Param #   \n",
            "=================================================================\n",
            " input_2 (InputLayer)        [(None, 1)]               0         \n",
            "                                                                 \n",
            " OutputLayer (Dense)         (None, 1)                 2         \n",
            "                                                                 \n",
            "=================================================================\n",
            "Total params: 2 (8.00 Byte)\n",
            "Trainable params: 2 (8.00 Byte)\n",
            "Non-trainable params: 0 (0.00 Byte)\n",
            "_________________________________________________________________\n"
          ]
        }
      ]
    },
    {
      "cell_type": "markdown",
      "source": [
        "# Build the simpliest FCNN with separate layer for activation function"
      ],
      "metadata": {
        "id": "u-O1wYaspTYG"
      }
    },
    {
      "cell_type": "code",
      "source": [
        "inputs = Input((1,))\n",
        "x = Dense(1,name = 'OutputLayer')(inputs)\n",
        "outputs = Activation('sigmoid',name = 'sigmoid')(x)\n",
        "model = Model(inputs,outputs,name = 'FCNN_with_activation')\n",
        "model.summary()"
      ],
      "metadata": {
        "colab": {
          "base_uri": "https://localhost:8080/"
        },
        "id": "9DRCIuf6onR5",
        "outputId": "e1693320-0c28-45bd-9b1c-461f2255a4e1"
      },
      "execution_count": 4,
      "outputs": [
        {
          "output_type": "stream",
          "name": "stdout",
          "text": [
            "Model: \"FCNN_with_activation\"\n",
            "_________________________________________________________________\n",
            " Layer (type)                Output Shape              Param #   \n",
            "=================================================================\n",
            " input_3 (InputLayer)        [(None, 1)]               0         \n",
            "                                                                 \n",
            " OutputLayer (Dense)         (None, 1)                 2         \n",
            "                                                                 \n",
            " sigmoid (Activation)        (None, 1)                 0         \n",
            "                                                                 \n",
            "=================================================================\n",
            "Total params: 2 (8.00 Byte)\n",
            "Trainable params: 2 (8.00 Byte)\n",
            "Non-trainable params: 0 (0.00 Byte)\n",
            "_________________________________________________________________\n"
          ]
        }
      ]
    },
    {
      "cell_type": "markdown",
      "source": [
        "# Build a simple shallow FCNN"
      ],
      "metadata": {
        "id": "Sj6KVApkpv18"
      }
    },
    {
      "cell_type": "code",
      "source": [
        "inputs  = Input((1,))\n",
        "# x = hidden layer\n",
        "x = Dense(1,activation = 'sigmoid')(inputs)\n",
        "outputs = Dense(1,name = 'OutputLayer', activation = 'sigmoid')(x)\n",
        "model = Model(inputs,outputs,name = 'ShallowNN')\n",
        "model.summary()"
      ],
      "metadata": {
        "colab": {
          "base_uri": "https://localhost:8080/"
        },
        "id": "AQOUufjAonO6",
        "outputId": "5af3257f-cbff-4d7b-c5d2-16f947810515"
      },
      "execution_count": 5,
      "outputs": [
        {
          "output_type": "stream",
          "name": "stdout",
          "text": [
            "Model: \"ShallowNN\"\n",
            "_________________________________________________________________\n",
            " Layer (type)                Output Shape              Param #   \n",
            "=================================================================\n",
            " input_4 (InputLayer)        [(None, 1)]               0         \n",
            "                                                                 \n",
            " dense (Dense)               (None, 1)                 2         \n",
            "                                                                 \n",
            " OutputLayer (Dense)         (None, 1)                 2         \n",
            "                                                                 \n",
            "=================================================================\n",
            "Total params: 4 (16.00 Byte)\n",
            "Trainable params: 4 (16.00 Byte)\n",
            "Non-trainable params: 0 (0.00 Byte)\n",
            "_________________________________________________________________\n"
          ]
        }
      ]
    },
    {
      "cell_type": "markdown",
      "source": [
        "# Build an fully connected Deep Neural Network(DNN)"
      ],
      "metadata": {
        "id": "pVbixcYnqYaN"
      }
    },
    {
      "cell_type": "code",
      "source": [
        "inputs = Input((1,))\n",
        "\n",
        "x = Dense(2, activation = 'sigmoid')(inputs)\n",
        "x = Dense(4, activation = 'sigmoid')(x)\n",
        "x = Dense(8, activation = 'sigmoid')(x)\n",
        "x = Dense(4, activation = 'sigmoid')(x)\n",
        "x = Dense(2, activation = 'sigmoid')(x)\n",
        "outputs = Dense(1, name = 'OutputLayer',activation = 'sigmoid')(x)\n",
        "\n",
        "model = Model(inputs,outputs,name = 'DNN')\n",
        "model.summary()\n",
        "\n",
        "\n"
      ],
      "metadata": {
        "colab": {
          "base_uri": "https://localhost:8080/"
        },
        "id": "OLqI_ae0qdqg",
        "outputId": "dc962f6a-d039-4da1-c8c7-21bcd8ab8cc5"
      },
      "execution_count": 6,
      "outputs": [
        {
          "output_type": "stream",
          "name": "stdout",
          "text": [
            "Model: \"DNN\"\n",
            "_________________________________________________________________\n",
            " Layer (type)                Output Shape              Param #   \n",
            "=================================================================\n",
            " input_5 (InputLayer)        [(None, 1)]               0         \n",
            "                                                                 \n",
            " dense_1 (Dense)             (None, 2)                 4         \n",
            "                                                                 \n",
            " dense_2 (Dense)             (None, 4)                 12        \n",
            "                                                                 \n",
            " dense_3 (Dense)             (None, 8)                 40        \n",
            "                                                                 \n",
            " dense_4 (Dense)             (None, 4)                 36        \n",
            "                                                                 \n",
            " dense_5 (Dense)             (None, 2)                 10        \n",
            "                                                                 \n",
            " OutputLayer (Dense)         (None, 1)                 3         \n",
            "                                                                 \n",
            "=================================================================\n",
            "Total params: 105 (420.00 Byte)\n",
            "Trainable params: 105 (420.00 Byte)\n",
            "Non-trainable params: 0 (0.00 Byte)\n",
            "_________________________________________________________________\n"
          ]
        }
      ]
    },
    {
      "cell_type": "markdown",
      "source": [
        "# Load Classical NN"
      ],
      "metadata": {
        "id": "e2dvHfxtrvFA"
      }
    },
    {
      "cell_type": "code",
      "source": [
        "vgg16_model = vgg16.VGG16()\n",
        "vgg16_model.summary()"
      ],
      "metadata": {
        "colab": {
          "base_uri": "https://localhost:8080/"
        },
        "id": "CGJYG198rsNa",
        "outputId": "fed4c57f-5053-4f8d-912d-c2138133ef4a"
      },
      "execution_count": 7,
      "outputs": [
        {
          "output_type": "stream",
          "name": "stdout",
          "text": [
            "Downloading data from https://storage.googleapis.com/tensorflow/keras-applications/vgg16/vgg16_weights_tf_dim_ordering_tf_kernels.h5\n",
            "553467096/553467096 [==============================] - 8s 0us/step\n",
            "Model: \"vgg16\"\n",
            "_________________________________________________________________\n",
            " Layer (type)                Output Shape              Param #   \n",
            "=================================================================\n",
            " input_6 (InputLayer)        [(None, 224, 224, 3)]     0         \n",
            "                                                                 \n",
            " block1_conv1 (Conv2D)       (None, 224, 224, 64)      1792      \n",
            "                                                                 \n",
            " block1_conv2 (Conv2D)       (None, 224, 224, 64)      36928     \n",
            "                                                                 \n",
            " block1_pool (MaxPooling2D)  (None, 112, 112, 64)      0         \n",
            "                                                                 \n",
            " block2_conv1 (Conv2D)       (None, 112, 112, 128)     73856     \n",
            "                                                                 \n",
            " block2_conv2 (Conv2D)       (None, 112, 112, 128)     147584    \n",
            "                                                                 \n",
            " block2_pool (MaxPooling2D)  (None, 56, 56, 128)       0         \n",
            "                                                                 \n",
            " block3_conv1 (Conv2D)       (None, 56, 56, 256)       295168    \n",
            "                                                                 \n",
            " block3_conv2 (Conv2D)       (None, 56, 56, 256)       590080    \n",
            "                                                                 \n",
            " block3_conv3 (Conv2D)       (None, 56, 56, 256)       590080    \n",
            "                                                                 \n",
            " block3_pool (MaxPooling2D)  (None, 28, 28, 256)       0         \n",
            "                                                                 \n",
            " block4_conv1 (Conv2D)       (None, 28, 28, 512)       1180160   \n",
            "                                                                 \n",
            " block4_conv2 (Conv2D)       (None, 28, 28, 512)       2359808   \n",
            "                                                                 \n",
            " block4_conv3 (Conv2D)       (None, 28, 28, 512)       2359808   \n",
            "                                                                 \n",
            " block4_pool (MaxPooling2D)  (None, 14, 14, 512)       0         \n",
            "                                                                 \n",
            " block5_conv1 (Conv2D)       (None, 14, 14, 512)       2359808   \n",
            "                                                                 \n",
            " block5_conv2 (Conv2D)       (None, 14, 14, 512)       2359808   \n",
            "                                                                 \n",
            " block5_conv3 (Conv2D)       (None, 14, 14, 512)       2359808   \n",
            "                                                                 \n",
            " block5_pool (MaxPooling2D)  (None, 7, 7, 512)         0         \n",
            "                                                                 \n",
            " flatten (Flatten)           (None, 25088)             0         \n",
            "                                                                 \n",
            " fc1 (Dense)                 (None, 4096)              102764544 \n",
            "                                                                 \n",
            " fc2 (Dense)                 (None, 4096)              16781312  \n",
            "                                                                 \n",
            " predictions (Dense)         (None, 1000)              4097000   \n",
            "                                                                 \n",
            "=================================================================\n",
            "Total params: 138357544 (527.79 MB)\n",
            "Trainable params: 138357544 (527.79 MB)\n",
            "Non-trainable params: 0 (0.00 Byte)\n",
            "_________________________________________________________________\n"
          ]
        }
      ]
    },
    {
      "cell_type": "code",
      "source": [
        "mobilenet_model = mobilenet.MobileNet()\n",
        "mobilenet_model.summary()"
      ],
      "metadata": {
        "colab": {
          "base_uri": "https://localhost:8080/"
        },
        "id": "uBAQrSkar9ye",
        "outputId": "6dcb4f69-96b2-44f9-bc50-79a276b2bccf"
      },
      "execution_count": 8,
      "outputs": [
        {
          "output_type": "stream",
          "name": "stdout",
          "text": [
            "Downloading data from https://storage.googleapis.com/tensorflow/keras-applications/mobilenet/mobilenet_1_0_224_tf.h5\n",
            "17225924/17225924 [==============================] - 2s 0us/step\n",
            "Model: \"mobilenet_1.00_224\"\n",
            "_________________________________________________________________\n",
            " Layer (type)                Output Shape              Param #   \n",
            "=================================================================\n",
            " input_7 (InputLayer)        [(None, 224, 224, 3)]     0         \n",
            "                                                                 \n",
            " conv1 (Conv2D)              (None, 112, 112, 32)      864       \n",
            "                                                                 \n",
            " conv1_bn (BatchNormalizati  (None, 112, 112, 32)      128       \n",
            " on)                                                             \n",
            "                                                                 \n",
            " conv1_relu (ReLU)           (None, 112, 112, 32)      0         \n",
            "                                                                 \n",
            " conv_dw_1 (DepthwiseConv2D  (None, 112, 112, 32)      288       \n",
            " )                                                               \n",
            "                                                                 \n",
            " conv_dw_1_bn (BatchNormali  (None, 112, 112, 32)      128       \n",
            " zation)                                                         \n",
            "                                                                 \n",
            " conv_dw_1_relu (ReLU)       (None, 112, 112, 32)      0         \n",
            "                                                                 \n",
            " conv_pw_1 (Conv2D)          (None, 112, 112, 64)      2048      \n",
            "                                                                 \n",
            " conv_pw_1_bn (BatchNormali  (None, 112, 112, 64)      256       \n",
            " zation)                                                         \n",
            "                                                                 \n",
            " conv_pw_1_relu (ReLU)       (None, 112, 112, 64)      0         \n",
            "                                                                 \n",
            " conv_pad_2 (ZeroPadding2D)  (None, 113, 113, 64)      0         \n",
            "                                                                 \n",
            " conv_dw_2 (DepthwiseConv2D  (None, 56, 56, 64)        576       \n",
            " )                                                               \n",
            "                                                                 \n",
            " conv_dw_2_bn (BatchNormali  (None, 56, 56, 64)        256       \n",
            " zation)                                                         \n",
            "                                                                 \n",
            " conv_dw_2_relu (ReLU)       (None, 56, 56, 64)        0         \n",
            "                                                                 \n",
            " conv_pw_2 (Conv2D)          (None, 56, 56, 128)       8192      \n",
            "                                                                 \n",
            " conv_pw_2_bn (BatchNormali  (None, 56, 56, 128)       512       \n",
            " zation)                                                         \n",
            "                                                                 \n",
            " conv_pw_2_relu (ReLU)       (None, 56, 56, 128)       0         \n",
            "                                                                 \n",
            " conv_dw_3 (DepthwiseConv2D  (None, 56, 56, 128)       1152      \n",
            " )                                                               \n",
            "                                                                 \n",
            " conv_dw_3_bn (BatchNormali  (None, 56, 56, 128)       512       \n",
            " zation)                                                         \n",
            "                                                                 \n",
            " conv_dw_3_relu (ReLU)       (None, 56, 56, 128)       0         \n",
            "                                                                 \n",
            " conv_pw_3 (Conv2D)          (None, 56, 56, 128)       16384     \n",
            "                                                                 \n",
            " conv_pw_3_bn (BatchNormali  (None, 56, 56, 128)       512       \n",
            " zation)                                                         \n",
            "                                                                 \n",
            " conv_pw_3_relu (ReLU)       (None, 56, 56, 128)       0         \n",
            "                                                                 \n",
            " conv_pad_4 (ZeroPadding2D)  (None, 57, 57, 128)       0         \n",
            "                                                                 \n",
            " conv_dw_4 (DepthwiseConv2D  (None, 28, 28, 128)       1152      \n",
            " )                                                               \n",
            "                                                                 \n",
            " conv_dw_4_bn (BatchNormali  (None, 28, 28, 128)       512       \n",
            " zation)                                                         \n",
            "                                                                 \n",
            " conv_dw_4_relu (ReLU)       (None, 28, 28, 128)       0         \n",
            "                                                                 \n",
            " conv_pw_4 (Conv2D)          (None, 28, 28, 256)       32768     \n",
            "                                                                 \n",
            " conv_pw_4_bn (BatchNormali  (None, 28, 28, 256)       1024      \n",
            " zation)                                                         \n",
            "                                                                 \n",
            " conv_pw_4_relu (ReLU)       (None, 28, 28, 256)       0         \n",
            "                                                                 \n",
            " conv_dw_5 (DepthwiseConv2D  (None, 28, 28, 256)       2304      \n",
            " )                                                               \n",
            "                                                                 \n",
            " conv_dw_5_bn (BatchNormali  (None, 28, 28, 256)       1024      \n",
            " zation)                                                         \n",
            "                                                                 \n",
            " conv_dw_5_relu (ReLU)       (None, 28, 28, 256)       0         \n",
            "                                                                 \n",
            " conv_pw_5 (Conv2D)          (None, 28, 28, 256)       65536     \n",
            "                                                                 \n",
            " conv_pw_5_bn (BatchNormali  (None, 28, 28, 256)       1024      \n",
            " zation)                                                         \n",
            "                                                                 \n",
            " conv_pw_5_relu (ReLU)       (None, 28, 28, 256)       0         \n",
            "                                                                 \n",
            " conv_pad_6 (ZeroPadding2D)  (None, 29, 29, 256)       0         \n",
            "                                                                 \n",
            " conv_dw_6 (DepthwiseConv2D  (None, 14, 14, 256)       2304      \n",
            " )                                                               \n",
            "                                                                 \n",
            " conv_dw_6_bn (BatchNormali  (None, 14, 14, 256)       1024      \n",
            " zation)                                                         \n",
            "                                                                 \n",
            " conv_dw_6_relu (ReLU)       (None, 14, 14, 256)       0         \n",
            "                                                                 \n",
            " conv_pw_6 (Conv2D)          (None, 14, 14, 512)       131072    \n",
            "                                                                 \n",
            " conv_pw_6_bn (BatchNormali  (None, 14, 14, 512)       2048      \n",
            " zation)                                                         \n",
            "                                                                 \n",
            " conv_pw_6_relu (ReLU)       (None, 14, 14, 512)       0         \n",
            "                                                                 \n",
            " conv_dw_7 (DepthwiseConv2D  (None, 14, 14, 512)       4608      \n",
            " )                                                               \n",
            "                                                                 \n",
            " conv_dw_7_bn (BatchNormali  (None, 14, 14, 512)       2048      \n",
            " zation)                                                         \n",
            "                                                                 \n",
            " conv_dw_7_relu (ReLU)       (None, 14, 14, 512)       0         \n",
            "                                                                 \n",
            " conv_pw_7 (Conv2D)          (None, 14, 14, 512)       262144    \n",
            "                                                                 \n",
            " conv_pw_7_bn (BatchNormali  (None, 14, 14, 512)       2048      \n",
            " zation)                                                         \n",
            "                                                                 \n",
            " conv_pw_7_relu (ReLU)       (None, 14, 14, 512)       0         \n",
            "                                                                 \n",
            " conv_dw_8 (DepthwiseConv2D  (None, 14, 14, 512)       4608      \n",
            " )                                                               \n",
            "                                                                 \n",
            " conv_dw_8_bn (BatchNormali  (None, 14, 14, 512)       2048      \n",
            " zation)                                                         \n",
            "                                                                 \n",
            " conv_dw_8_relu (ReLU)       (None, 14, 14, 512)       0         \n",
            "                                                                 \n",
            " conv_pw_8 (Conv2D)          (None, 14, 14, 512)       262144    \n",
            "                                                                 \n",
            " conv_pw_8_bn (BatchNormali  (None, 14, 14, 512)       2048      \n",
            " zation)                                                         \n",
            "                                                                 \n",
            " conv_pw_8_relu (ReLU)       (None, 14, 14, 512)       0         \n",
            "                                                                 \n",
            " conv_dw_9 (DepthwiseConv2D  (None, 14, 14, 512)       4608      \n",
            " )                                                               \n",
            "                                                                 \n",
            " conv_dw_9_bn (BatchNormali  (None, 14, 14, 512)       2048      \n",
            " zation)                                                         \n",
            "                                                                 \n",
            " conv_dw_9_relu (ReLU)       (None, 14, 14, 512)       0         \n",
            "                                                                 \n",
            " conv_pw_9 (Conv2D)          (None, 14, 14, 512)       262144    \n",
            "                                                                 \n",
            " conv_pw_9_bn (BatchNormali  (None, 14, 14, 512)       2048      \n",
            " zation)                                                         \n",
            "                                                                 \n",
            " conv_pw_9_relu (ReLU)       (None, 14, 14, 512)       0         \n",
            "                                                                 \n",
            " conv_dw_10 (DepthwiseConv2  (None, 14, 14, 512)       4608      \n",
            " D)                                                              \n",
            "                                                                 \n",
            " conv_dw_10_bn (BatchNormal  (None, 14, 14, 512)       2048      \n",
            " ization)                                                        \n",
            "                                                                 \n",
            " conv_dw_10_relu (ReLU)      (None, 14, 14, 512)       0         \n",
            "                                                                 \n",
            " conv_pw_10 (Conv2D)         (None, 14, 14, 512)       262144    \n",
            "                                                                 \n",
            " conv_pw_10_bn (BatchNormal  (None, 14, 14, 512)       2048      \n",
            " ization)                                                        \n",
            "                                                                 \n",
            " conv_pw_10_relu (ReLU)      (None, 14, 14, 512)       0         \n",
            "                                                                 \n",
            " conv_dw_11 (DepthwiseConv2  (None, 14, 14, 512)       4608      \n",
            " D)                                                              \n",
            "                                                                 \n",
            " conv_dw_11_bn (BatchNormal  (None, 14, 14, 512)       2048      \n",
            " ization)                                                        \n",
            "                                                                 \n",
            " conv_dw_11_relu (ReLU)      (None, 14, 14, 512)       0         \n",
            "                                                                 \n",
            " conv_pw_11 (Conv2D)         (None, 14, 14, 512)       262144    \n",
            "                                                                 \n",
            " conv_pw_11_bn (BatchNormal  (None, 14, 14, 512)       2048      \n",
            " ization)                                                        \n",
            "                                                                 \n",
            " conv_pw_11_relu (ReLU)      (None, 14, 14, 512)       0         \n",
            "                                                                 \n",
            " conv_pad_12 (ZeroPadding2D  (None, 15, 15, 512)       0         \n",
            " )                                                               \n",
            "                                                                 \n",
            " conv_dw_12 (DepthwiseConv2  (None, 7, 7, 512)         4608      \n",
            " D)                                                              \n",
            "                                                                 \n",
            " conv_dw_12_bn (BatchNormal  (None, 7, 7, 512)         2048      \n",
            " ization)                                                        \n",
            "                                                                 \n",
            " conv_dw_12_relu (ReLU)      (None, 7, 7, 512)         0         \n",
            "                                                                 \n",
            " conv_pw_12 (Conv2D)         (None, 7, 7, 1024)        524288    \n",
            "                                                                 \n",
            " conv_pw_12_bn (BatchNormal  (None, 7, 7, 1024)        4096      \n",
            " ization)                                                        \n",
            "                                                                 \n",
            " conv_pw_12_relu (ReLU)      (None, 7, 7, 1024)        0         \n",
            "                                                                 \n",
            " conv_dw_13 (DepthwiseConv2  (None, 7, 7, 1024)        9216      \n",
            " D)                                                              \n",
            "                                                                 \n",
            " conv_dw_13_bn (BatchNormal  (None, 7, 7, 1024)        4096      \n",
            " ization)                                                        \n",
            "                                                                 \n",
            " conv_dw_13_relu (ReLU)      (None, 7, 7, 1024)        0         \n",
            "                                                                 \n",
            " conv_pw_13 (Conv2D)         (None, 7, 7, 1024)        1048576   \n",
            "                                                                 \n",
            " conv_pw_13_bn (BatchNormal  (None, 7, 7, 1024)        4096      \n",
            " ization)                                                        \n",
            "                                                                 \n",
            " conv_pw_13_relu (ReLU)      (None, 7, 7, 1024)        0         \n",
            "                                                                 \n",
            " global_average_pooling2d (  (None, 1, 1, 1024)        0         \n",
            " GlobalAveragePooling2D)                                         \n",
            "                                                                 \n",
            " dropout (Dropout)           (None, 1, 1, 1024)        0         \n",
            "                                                                 \n",
            " conv_preds (Conv2D)         (None, 1, 1, 1000)        1025000   \n",
            "                                                                 \n",
            " reshape_2 (Reshape)         (None, 1000)              0         \n",
            "                                                                 \n",
            " predictions (Activation)    (None, 1000)              0         \n",
            "                                                                 \n",
            "=================================================================\n",
            "Total params: 4253864 (16.23 MB)\n",
            "Trainable params: 4231976 (16.14 MB)\n",
            "Non-trainable params: 21888 (85.50 KB)\n",
            "_________________________________________________________________\n"
          ]
        }
      ]
    }
  ]
}